{
  "nbformat": 4,
  "nbformat_minor": 0,
  "metadata": {
    "colab": {
      "name": "Project.ipynb",
      "provenance": [],
      "collapsed_sections": [],
      "include_colab_link": true
    },
    "kernelspec": {
      "name": "python3",
      "display_name": "Python 3"
    }
  },
  "cells": [
    {
      "cell_type": "markdown",
      "metadata": {
        "id": "view-in-github",
        "colab_type": "text"
      },
      "source": [
        "<a href=\"https://colab.research.google.com/github/Tejesvani/Text-Summarization/blob/master/Project.ipynb\" target=\"_parent\"><img src=\"https://colab.research.google.com/assets/colab-badge.svg\" alt=\"Open In Colab\"/></a>"
      ]
    },
    {
      "cell_type": "code",
      "metadata": {
        "id": "1mOGVjCa2FsE",
        "colab_type": "code",
        "colab": {
          "base_uri": "https://localhost:8080/",
          "height": 50
        },
        "outputId": "1d4d89fb-066f-457c-ff77-33f8065c77c7"
      },
      "source": [
        "import nltk\n",
        "nltk.download('stopwords')\n",
        "\n",
        "from nltk.corpus import stopwords\n",
        "from nltk.cluster.util import cosine_distance"
      ],
      "execution_count": null,
      "outputs": [
        {
          "output_type": "stream",
          "text": [
            "[nltk_data] Downloading package stopwords to /root/nltk_data...\n",
            "[nltk_data]   Package stopwords is already up-to-date!\n"
          ],
          "name": "stdout"
        }
      ]
    },
    {
      "cell_type": "code",
      "metadata": {
        "id": "bs7xcoEprArV",
        "colab_type": "code",
        "colab": {}
      },
      "source": [
        "def pagerank(A, eps=0.0001, d=0.85):\n",
        "    P = np.ones(len(A)) / len(A) #coloumn matrix\n",
        "    while True:\n",
        "        new_P = np.ones(len(A)) * (1 - d) / len(A) + d * A.T.dot(P)              #(A^T).p     \n",
        "        delta = abs(new_P - P).sum()\n",
        "        if delta <= eps:\n",
        "            return new_P\n",
        "        P = new_P\n",
        " "
      ],
      "execution_count": null,
      "outputs": []
    },
    {
      "cell_type": "code",
      "metadata": {
        "id": "Yys3HGJZrJbG",
        "colab_type": "code",
        "colab": {}
      },
      "source": [
        "\n",
        "def sentence_similarity(sent_1, sent_2, stopwords=None):\n",
        "   \n",
        "    #lemmatization\n",
        "    nlp = spacy.load('en', disable=['parser','ner']) \n",
        "    sent_1 = nlp(sent_1)                                           \n",
        "    sent_2 = nlp(sent_2)\n",
        "    sent1=\" \".join([token.lemma_ for token in sent_1])\n",
        "    sent2=\" \".join([token.lemma_ for token in sent_2])\n",
        "\n",
        "    #Removig Stop Word\n",
        "    if stopwords is None:\n",
        "        stopwords = []\n",
        "                                                                     \n",
        "    sent1 = [w.lower() for w in sent1]\n",
        "    sent2 = [w.lower() for w in sent2]\n",
        " \n",
        "    all_words = list(set(sent1 + sent2))\n",
        " \n",
        "    vector1 = [0] * len(all_words)\n",
        "    vector2 = [0] * len(all_words)\n",
        " \n",
        "    # build the vector for the first sentence\n",
        "    for w in sent1:\n",
        "        if w in stopwords:\n",
        "            continue\n",
        "        vector1[all_words.index(w)] += 1\n",
        " \n",
        "    # build the vector for the second sentence\n",
        "    for w in sent2:\n",
        "        if w in stopwords:\n",
        "            continue\n",
        "        vector2[all_words.index(w)] += 1                                        # cosine distance =[vector1].[vector2]\n",
        "                                                                                #                  -------------------\n",
        "                                                                                #                  |vector1||vector2| \n",
        "    return 1 - cosine_distance(vector1, vector2)\n"
      ],
      "execution_count": null,
      "outputs": []
    },
    {
      "cell_type": "code",
      "metadata": {
        "id": "NuoE9iUMsRmx",
        "colab_type": "code",
        "colab": {}
      },
      "source": [
        "def build_similarity_matrix(sentences, stopwords=None):\n",
        "    # Create an empty similarity matrix\n",
        "    S = np.zeros((len(sentences), len(sentences)))\n",
        " \n",
        "    for idx1 in range(len(sentences)):      \n",
        "        for idx2 in range(len(sentences)):\n",
        "            if idx1 == idx2:\n",
        "                continue\n",
        " \n",
        "            S[idx1][idx2] = sentence_similarity(sentences[idx1], sentences[idx2], stop_words)\n",
        "    \n",
        "    # normalize the matrix row-wise\n",
        "    for idx in range(len(S)):\n",
        "        S[idx] /= S[idx].sum()\n",
        "    return S\n",
        "\n",
        " "
      ],
      "execution_count": null,
      "outputs": []
    },
    {
      "cell_type": "code",
      "metadata": {
        "id": "mplLmoPeskVc",
        "colab_type": "code",
        "colab": {}
      },
      "source": [
        "from operator import itemgetter "
      ],
      "execution_count": null,
      "outputs": []
    },
    {
      "cell_type": "code",
      "metadata": {
        "id": "YNqlT6m5v25P",
        "colab_type": "code",
        "colab": {}
      },
      "source": [
        "def textrank(sentences, top_n=5, stopwords=None):\n",
        "    \n",
        "    S = build_similarity_matrix(sentences, stop_words)\n",
        "    print(\"SIMILARITY_MATRIX\\n\") \n",
        "    print(S)\n",
        "    sentence_ranks = pagerank(S)\n",
        "    print(\"\\n\\n\\nSENTENCE_RANKING\\n\")\n",
        "    print(sentence_ranks)\n",
        "    # Sort the sentence ranks\n",
        "    ranked_sentence_indexes = [item[0] for item in sorted(enumerate(sentence_ranks),key=lambda item:-item[1])] \n",
        "    selected_sentences = sorted(ranked_sentence_indexes[:top_n])\n",
        "    print(\"\\n\\n\\nRANKED_INDEXES\\n\")\n",
        "    print(ranked_sentence_indexes)\n",
        "    summary = itemgetter(*selected_sentences)(sentences)\n",
        "    print(\"\\n\\n\\nRanked_Summary\\n\")\n",
        "    return summary"
      ],
      "execution_count": null,
      "outputs": []
    },
    {
      "cell_type": "code",
      "metadata": {
        "id": "gSfrOW8G2b0l",
        "colab_type": "code",
        "colab": {
          "base_uri": "https://localhost:8080/",
          "height": 70
        },
        "outputId": "dd6fcb26-82f1-4e3e-a1dc-f4f57e9dc2fe"
      },
      "source": [
        "import numpy as np\n",
        "import spacy \n",
        "\n",
        "sen = \"Computer engineering is a relatively new field of engineering and is one of the fastest growing fields today. Computer engineering is one of today’s most technologically based jobs. The field of computer engineering combines the knowledge of electrical engineering and computer science to create advanced computer systems. Computer engineering involves the process of designing and manufacturing computer central processors, memory systems, central processing units, and of peripheral devices. Computer engineers work with CAD(computer aided design) programs and different computer languages so they can create and program computer systems. Computer engineers use today’s best technology to create tomorrow’s. Computer engineers require a high level of training and intelligence to be skilled at their job. A bachelors degree from a college or university with a good computer engineering program computer science program is necessary. Then once employed their usually is a on the job type of training program to learn the certain types of systems that will be designed and manufactured. Computer engineers major studies conventional electronic engineering, computer science and math in college. The electrical engineering knowledge that a computer engineer possesses allow for a understanding of the apparatus that goes into a computer so that they can be designed and built.\"\n",
        "#sen=input(\"Enter the text you want to summarize : \")\n",
        "sentences=list(sen.split('. '))\n",
        "\n",
        "print(sentences)\n",
        "\n",
        "#length of input \n",
        "print(len(sentences))  \n",
        " \n",
        "# get the english list of stopwords\n",
        "stop_words = stopwords.words('english')"
      ],
      "execution_count": null,
      "outputs": [
        {
          "output_type": "stream",
          "text": [
            "['Computer engineering is a relatively new field of engineering and is one of the fastest growing fields today', 'Computer engineering is one of today’s most technologically based jobs', 'The field of computer engineering combines the knowledge of electrical engineering and computer science to create advanced computer systems', 'Computer engineering involves the process of designing and manufacturing computer central processors, memory systems, central processing units, and of peripheral devices', 'Computer engineers work with CAD(computer aided design) programs and different computer languages so they can create and program computer systems', 'Computer engineers use today’s best technology to create tomorrow’s', 'Computer engineers require a high level of training and intelligence to be skilled at their job', 'A bachelors degree from a college or university with a good computer engineering program computer science program is necessary', 'Then once employed their usually is a on the job type of training program to learn the certain types of systems that will be designed and manufactured', 'Computer engineers major studies conventional electronic engineering, computer science and math in college', 'The electrical engineering knowledge that a computer engineer possesses allow for a understanding of the apparatus that goes into a computer so that they can be designed and built.']\n",
            "11\n"
          ],
          "name": "stdout"
        }
      ]
    },
    {
      "cell_type": "code",
      "metadata": {
        "id": "nmztKLUa2iBN",
        "colab_type": "code",
        "colab": {
          "base_uri": "https://localhost:8080/",
          "height": 806
        },
        "outputId": "1eb45bca-191b-4403-c9da-2b83cd68e45e"
      },
      "source": [
        "for idx, sentence in enumerate(textrank(sentences, stopwords=stopwords.words('english'))):\n",
        "    print(\"%s. %s\" % ((idx + 1), ''.join(sentence)))"
      ],
      "execution_count": null,
      "outputs": [
        {
          "output_type": "stream",
          "text": [
            "SIMILARITY_MATRIX\n",
            "\n",
            "[[0.         0.1022188  0.10110863 0.09956427 0.09605685 0.09880947\n",
            "  0.10320668 0.09829463 0.10101375 0.09788343 0.1018435 ]\n",
            " [0.10175982 0.         0.10080178 0.09890336 0.09531791 0.09906804\n",
            "  0.10281662 0.09807314 0.10153763 0.09961168 0.10211002]\n",
            " [0.10038222 0.10052896 0.         0.10212816 0.09784638 0.09983299\n",
            "  0.10022665 0.10070676 0.09598913 0.10347605 0.0988827 ]\n",
            " [0.09769115 0.09748038 0.10093196 0.         0.10204075 0.10022047\n",
            "  0.09968707 0.10164905 0.09863563 0.1010119  0.10065163]\n",
            " [0.09620106 0.09589157 0.0987024  0.10415339 0.         0.10266259\n",
            "  0.09878113 0.10389078 0.0995232  0.09814632 0.10204756]\n",
            " [0.09811571 0.09881617 0.09984942 0.10142493 0.10178897 0.\n",
            "  0.09943819 0.10338623 0.09852967 0.09766134 0.10098937]\n",
            " [0.10157562 0.10164814 0.09935651 0.09999282 0.09707428 0.09855868\n",
            "  0.         0.09897824 0.10155662 0.09886139 0.10239769]\n",
            " [0.09757727 0.09779651 0.10069524 0.10284199 0.10297798 0.1033574\n",
            "  0.09983363 0.         0.09685396 0.09836971 0.09969631]\n",
            " [0.10089667 0.10187739 0.0965717  0.10041035 0.09925884 0.09911135\n",
            "  0.10306778 0.09745293 0.         0.09583274 0.10552024]\n",
            " [0.09825305 0.10043881 0.10461842 0.10333744 0.09836926 0.09872328\n",
            "  0.10082818 0.09946708 0.09630624 0.         0.09965824]\n",
            " [0.09988681 0.10059991 0.09768471 0.10061064 0.09993692 0.09974944\n",
            "  0.10204302 0.09849973 0.103613   0.09737583 0.        ]]\n",
            "\n",
            "\n",
            "\n",
            "SENTENCE_RANKING\n",
            "\n",
            "[0.09036468 0.09071613 0.09092886 0.09185821 0.0902476  0.09091545\n",
            " 0.09161523 0.09093729 0.09045446 0.09007183 0.09189026]\n",
            "\n",
            "\n",
            "\n",
            "RANKED_INDEXES\n",
            "\n",
            "[10, 3, 6, 7, 2, 5, 1, 8, 0, 4, 9]\n",
            "\n",
            "\n",
            "\n",
            "Ranked_Summary\n",
            "\n",
            "1. The field of computer engineering combines the knowledge of electrical engineering and computer science to create advanced computer systems\n",
            "2. Computer engineering involves the process of designing and manufacturing computer central processors, memory systems, central processing units, and of peripheral devices\n",
            "3. Computer engineers require a high level of training and intelligence to be skilled at their job\n",
            "4. A bachelors degree from a college or university with a good computer engineering program computer science program is necessary\n",
            "5. The electrical engineering knowledge that a computer engineer possesses allow for a understanding of the apparatus that goes into a computer so that they can be designed and built.\n"
          ],
          "name": "stdout"
        }
      ]
    }
  ]
}